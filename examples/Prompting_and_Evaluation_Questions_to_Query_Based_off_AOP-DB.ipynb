{
 "cells": [
  {
   "cell_type": "markdown",
   "id": "d94c96dd-f4f7-4312-bea3-8b733d02f6a0",
   "metadata": {},
   "source": [
    "# Prompting and Evaluation - Questions to Query Based off AOP-DB"
   ]
  },
  {
   "cell_type": "markdown",
   "id": "99266cfe-055e-4ce5-816a-0b7548d938da",
   "metadata": {},
   "source": [
    "## Useful Information About Prompting"
   ]
  },
  {
   "cell_type": "markdown",
   "id": "afe692ff-992a-4385-a05b-9d1ecb82b7e7",
   "metadata": {},
   "source": [
    "Text"
   ]
  },
  {
   "cell_type": "markdown",
   "id": "8b66f635-9a15-4c1e-8186-af8015d4da27",
   "metadata": {},
   "source": [
    "## Useful Information About Evaluation/State-of-the-art Evaluation Techniques"
   ]
  },
  {
   "cell_type": "markdown",
   "id": "85a08ec6-0665-4168-9a63-b12a1e34a09b",
   "metadata": {},
   "source": [
    "Text"
   ]
  },
  {
   "cell_type": "markdown",
   "id": "5fe49526-ca39-42a4-a53f-a60687c5ea23",
   "metadata": {},
   "source": [
    "## Questions to Query"
   ]
  },
  {
   "attachments": {},
   "cell_type": "markdown",
   "id": "08a21e5d-58f7-4e48-8f8b-20dd63f3a02e",
   "metadata": {},
   "source": [
    "Note: \n",
    "* Look at Langchain templates for prompting called Prompt Template (can just import this from langchain): https://python.langchain.com/docs/modules/model_io/prompts/\n",
    "Potential questions to ask that were recommended by Dave on 04/12/2024:\n",
    "* Name two chemicals within the database\n",
    "* Linking two tables\n",
    "* Tell me the molecule with the highest molecule weight\n",
    "* Try to get it to aggregate data\n",
    "* Foxglove (has digitoxin)"
   ]
  },
  {
   "cell_type": "code",
   "execution_count": null,
   "id": "d9a2b72d-288b-4052-9911-46a373f3fbd6",
   "metadata": {},
   "outputs": [],
   "source": []
  }
 ],
 "metadata": {
  "kernelspec": {
   "display_name": "Python 3 (ipykernel)",
   "language": "python",
   "name": "python3"
  },
  "language_info": {
   "codemirror_mode": {
    "name": "ipython",
    "version": 3
   },
   "file_extension": ".py",
   "mimetype": "text/x-python",
   "name": "python",
   "nbconvert_exporter": "python",
   "pygments_lexer": "ipython3",
   "version": "3.9.7"
  }
 },
 "nbformat": 4,
 "nbformat_minor": 5
}
